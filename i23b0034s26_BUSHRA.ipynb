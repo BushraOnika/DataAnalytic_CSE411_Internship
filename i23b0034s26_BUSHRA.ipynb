{
 "cells": [
  {
   "cell_type": "markdown",
   "id": "b5e5a4db-5610-4654-b3b5-93aa16eb00d0",
   "metadata": {},
   "source": [
    " #### Name: Bushra Hossain\n",
    " ####  Intern ID : i23b0034s26\n",
    " \r\n"
   ]
  },
  {
   "cell_type": "markdown",
   "id": "651dbb55-c3b5-4561-b86f-99d5fb3348a4",
   "metadata": {},
   "source": [
    "Problem 1"
   ]
  },
  {
   "cell_type": "code",
   "execution_count": null,
   "id": "8da91e93-7a54-48c3-b4aa-5dd85c84c80e",
   "metadata": {},
   "outputs": [],
   "source": [
    "import numpy as np"
   ]
  },
  {
   "cell_type": "code",
   "execution_count": 4,
   "id": "c5d911b2-1d12-416e-bc9b-8048fe764067",
   "metadata": {},
   "outputs": [
    {
     "name": "stdout",
     "output_type": "stream",
     "text": [
      "[[11 13 15]\n",
      " [17 19 21]\n",
      " [ 4  6  8]]\n"
     ]
    },
    {
     "data": {
      "text/plain": [
       "array([[1, 2, 3],\n",
       "       [4, 5, 6],\n",
       "       [2, 3, 4]])"
      ]
     },
     "execution_count": 4,
     "metadata": {},
     "output_type": "execute_result"
    }
   ],
   "source": [
    "import numpy as np\n",
    "a = np.array([[1,2,3],\n",
    "\n",
    "              [4,5,6],\n",
    "             [2,3,4]])\n",
    "\n",
    " \n",
    "b = np.array([[10,11,12],\n",
    "             [13,14,15],\n",
    "             [2,3,4]])\n",
    "\n",
    " \n",
    "c = a + b\n",
    "\n",
    "print(c)\n",
    "\n",
    "a\n"
   ]
  },
  {
   "cell_type": "markdown",
   "id": "e59a0b2a-d572-432a-a159-70d6dc83a02f",
   "metadata": {},
   "source": [
    "PROBLEM 2"
   ]
  },
  {
   "cell_type": "code",
   "execution_count": 8,
   "id": "02a31516-ff73-4597-96d2-10e5d3663241",
   "metadata": {},
   "outputs": [
    {
     "data": {
      "text/plain": [
       "array([[[ 5, 10],\n",
       "        [10, 20],\n",
       "        [15, 30]]])"
      ]
     },
     "execution_count": 8,
     "metadata": {},
     "output_type": "execute_result"
    }
   ],
   "source": [
    "import numpy as np\n",
    "\n",
    "a = np.array([[[1, 2],\n",
    "            [2, 4],\n",
    "            [3, 6]]])\n",
    "\n",
    "\n",
    "5*a"
   ]
  },
  {
   "cell_type": "markdown",
   "id": "d482313a-2948-4994-9be0-9faa97107039",
   "metadata": {},
   "source": [
    "PROBLEM 3\n"
   ]
  },
  {
   "cell_type": "code",
   "execution_count": 10,
   "id": "dd5d0500-730c-4146-84b7-c1f3fbd48bea",
   "metadata": {},
   "outputs": [
    {
     "data": {
      "text/plain": [
       "array([[5., 0., 0., 0., 0., 0., 0., 0., 0., 0.],\n",
       "       [0., 5., 0., 0., 0., 0., 0., 0., 0., 0.],\n",
       "       [0., 0., 5., 0., 0., 0., 0., 0., 0., 0.],\n",
       "       [0., 0., 0., 5., 0., 0., 0., 0., 0., 0.],\n",
       "       [0., 0., 0., 0., 5., 0., 0., 0., 0., 0.],\n",
       "       [0., 0., 0., 0., 0., 5., 0., 0., 0., 0.],\n",
       "       [0., 0., 0., 0., 0., 0., 5., 0., 0., 0.],\n",
       "       [0., 0., 0., 0., 0., 0., 0., 5., 0., 0.],\n",
       "       [0., 0., 0., 0., 0., 0., 0., 0., 5., 0.],\n",
       "       [0., 0., 0., 0., 0., 0., 0., 0., 0., 5.]])"
      ]
     },
     "execution_count": 10,
     "metadata": {},
     "output_type": "execute_result"
    }
   ],
   "source": [
    "i = np.eye(10)\n",
    "\n",
    "i*5"
   ]
  },
  {
   "cell_type": "markdown",
   "id": "85210f1f-09d9-43f8-9c79-6dc9e8522772",
   "metadata": {},
   "source": [
    "###### Problem 4: Create a 1-Dimensional array with 20 elements starting from  100 with an increment 5. Convert the array to a 3-Dimensional array 3da and display.\r\n",
    "\r\n"
   ]
  },
  {
   "cell_type": "code",
   "execution_count": 34,
   "id": "e64bcfde-726c-4cdf-ab3c-87d8cdfd8f9a",
   "metadata": {},
   "outputs": [],
   "source": [
    "s = [x for x in range(100, 196, 5)]\n"
   ]
  },
  {
   "cell_type": "code",
   "execution_count": 33,
   "id": "b321ee96-bd0f-4a1f-a656-b60acfc4db7b",
   "metadata": {},
   "outputs": [
    {
     "data": {
      "text/plain": [
       "array([[[100, 105, 110, 115, 120],\n",
       "        [125, 130, 135, 140, 145]],\n",
       "\n",
       "       [[150, 155, 160, 165, 170],\n",
       "        [175, 180, 185, 190, 195]]])"
      ]
     },
     "execution_count": 33,
     "metadata": {},
     "output_type": "execute_result"
    }
   ],
   "source": [
    "s2=np.array(s)\n",
    "s3=s2.reshape(2,2,5)\n",
    "s3"
   ]
  },
  {
   "cell_type": "markdown",
   "id": "cf16fc5f-74c6-4e71-9a6f-eac80f07343e",
   "metadata": {},
   "source": [
    "Problem 5: Define a and b as 2-D arrays with 4 elements and merge the arrays horizontally as m and display.\r\n",
    "\r\n"
   ]
  },
  {
   "cell_type": "code",
   "execution_count": 35,
   "id": "4ad19208-2a95-48ba-8e73-1b37ceef38e4",
   "metadata": {},
   "outputs": [
    {
     "data": {
      "text/plain": [
       "array([[ 1,  2,  3,  7,  8,  9],\n",
       "       [ 4,  5,  6, 10, 11, 12],\n",
       "       [ 2,  2,  2,  1,  2,  3],\n",
       "       [ 3,  1,  2,  2,  3,  4]])"
      ]
     },
     "execution_count": 35,
     "metadata": {},
     "output_type": "execute_result"
    }
   ],
   "source": [
    "a1 = np.array([[1,2,3],\n",
    "              [4,5,6],\n",
    "              [2,2,2],\n",
    "              [3,1,2]])\n",
    "\n",
    " \n",
    "a2 = np.array([[7,8,9],\n",
    "             [10,11,12],\n",
    "               [1,2,3],\n",
    "               [2,3,4]])\n",
    "\n",
    " \n",
    "m= np.hstack((a1, a2))\n",
    "m\n"
   ]
  },
  {
   "cell_type": "markdown",
   "id": "1b0f94da-5abb-4e71-835f-6ff4f20c5fd4",
   "metadata": {},
   "source": [
    "Problem 6: Define a and b as 2-D arrays with 4 elements and merge the arrays vertically as mv and display.\r\n",
    "\r\n"
   ]
  },
  {
   "cell_type": "code",
   "execution_count": 36,
   "id": "86f2e27d-b4af-4d5d-989a-c5283828bb79",
   "metadata": {},
   "outputs": [
    {
     "data": {
      "text/plain": [
       "array([[ 1,  2,  3],\n",
       "       [ 4,  5,  6],\n",
       "       [ 2,  2,  2],\n",
       "       [ 3,  1,  2],\n",
       "       [ 7,  8,  9],\n",
       "       [10, 11, 12],\n",
       "       [ 1,  2,  3],\n",
       "       [ 2,  3,  4]])"
      ]
     },
     "execution_count": 36,
     "metadata": {},
     "output_type": "execute_result"
    }
   ],
   "source": [
    "a1 = np.array([[1,2,3],\n",
    "              [4,5,6],\n",
    "              [2,2,2],\n",
    "              [3,1,2]])\n",
    "\n",
    " \n",
    "a2 = np.array([[7,8,9],\n",
    "             [10,11,12],\n",
    "               [1,2,3],\n",
    "               [2,3,4]])\n",
    "\n",
    " \n",
    "mv= np.vstack((a1, a2))\n",
    "\n",
    "mv\n"
   ]
  },
  {
   "cell_type": "code",
   "execution_count": null,
   "id": "4f3ba5f6-b22e-4818-bf67-6c3ecb66842a",
   "metadata": {},
   "outputs": [],
   "source": []
  }
 ],
 "metadata": {
  "kernelspec": {
   "display_name": "Python 3 (ipykernel)",
   "language": "python",
   "name": "python3"
  },
  "language_info": {
   "codemirror_mode": {
    "name": "ipython",
    "version": 3
   },
   "file_extension": ".py",
   "mimetype": "text/x-python",
   "name": "python",
   "nbconvert_exporter": "python",
   "pygments_lexer": "ipython3",
   "version": "3.9.1"
  }
 },
 "nbformat": 4,
 "nbformat_minor": 5
}
