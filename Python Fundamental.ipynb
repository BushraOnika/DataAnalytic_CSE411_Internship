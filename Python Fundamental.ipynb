{
 "cells": [
  {
   "attachments": {},
   "cell_type": "markdown",
   "id": "55e64449",
   "metadata": {},
   "source": [
    "##  Name: Bushra Hossain\n",
    "#### Intern ID: i23b0034s26\n",
    "\n",
    "\n"
   ]
  },
  {
   "attachments": {},
   "cell_type": "markdown",
   "id": "dbee89af",
   "metadata": {},
   "source": [
    "##### Practice Problem 1.1\n",
    "Create 3 variables randomly: an integer, a float, and a string. Then print all, and replace the all variable into a string and print it."
   ]
  },
  {
   "cell_type": "code",
   "execution_count": 4,
   "id": "edb7880f",
   "metadata": {},
   "outputs": [
    {
     "name": "stdout",
     "output_type": "stream",
     "text": [
      "Random Integer: 6\n",
      "Random Float: 62.98652527367929\n",
      "Random String: talqdimonidqjweayqwrmlkmn\n",
      "6, 62.98652527367929, talqdimonidqjweayqwrmlkmn\n"
     ]
    }
   ],
   "source": [
    "import random\n",
    "\n",
    "i = random.randint(1, 100)\n",
    "\n",
    "f = random.uniform(1.0, 100.0)\n",
    "\n",
    "s = ''.join(random.choice('abcdefghijklmnopqrstuvwxyz') for _ in range(25))\n",
    "\n",
    "print(\"Random Integer:\", i)\n",
    "print(\"Random Float:\",f)\n",
    "print(\"Random String:\",s)\n",
    "\n",
    "# Convert all variables to a single string and print it\n",
    "mix = f\"{i}, {f}, {s}\"\n",
    "print(mix)\n"
   ]
  },
  {
   "attachments": {},
   "cell_type": "markdown",
   "id": "83842ba5",
   "metadata": {},
   "source": [
    "##### Practice Problem 1.2\n",
    "There is a list like 10, 0, 55, 88, 100, -56, 80. Find the largest number of this list.\n",
    "\n",
    "N.B: Implement it without the help of the max() function."
   ]
  },
  {
   "cell_type": "code",
   "execution_count": 5,
   "id": "a050dd02",
   "metadata": {},
   "outputs": [
    {
     "name": "stdout",
     "output_type": "stream",
     "text": [
      "The largest num:  100\n"
     ]
    }
   ],
   "source": [
    "\n",
    "num = [10, 0, 55, 88, 100, -56, 80]\n",
    "\n",
    "max = num[0]\n",
    "\n",
    "for num in num:\n",
    "    if num > max:\n",
    "        max = num\n",
    "\n",
    "# Print the maximum number\n",
    "print(\"The largest num: \", max)\n"
   ]
  },
  {
   "attachments": {},
   "cell_type": "markdown",
   "id": "d5abace8",
   "metadata": {},
   "source": [
    "##### Practice Problem 1.3\n",
    "Rima and Lima both are two friends. They are talking with each other. Rima says, “Your daughter is very pretty”. Remove the duplicate characters that Rima has said."
   ]
  },
  {
   "cell_type": "code",
   "execution_count": 6,
   "id": "977e44a7",
   "metadata": {},
   "outputs": [
    {
     "name": "stdout",
     "output_type": "stream",
     "text": [
      "Your daghteisvyp\n"
     ]
    }
   ],
   "source": [
    "\n",
    "rima = \"Your daughter is very pretty\"\n",
    "\n",
    "\n",
    "dupNot = \"\"\n",
    "\n",
    "# Iterate through each character in Rima's statement\n",
    "for char in rima:\n",
    "    # If the character is not already in the result string, add it\n",
    "    if char not in dupNot:\n",
    "        dupNot += char\n",
    "\n",
    "# Print the result without duplicates\n",
    "print(dupNot)\n"
   ]
  },
  {
   "attachments": {},
   "cell_type": "markdown",
   "id": "b53cc1fa",
   "metadata": {},
   "source": [
    "#### Practice problem 1.4\n",
    "Write a Python program to count the number of strings where the string length is 2 or more and the first and last character are the same from a given list of strings. \n",
    "\n",
    "Sample List : ['abc', 'xyz', 'aba', '1221']\n",
    "\n",
    "Expected Result : 2"
   ]
  },
  {
   "cell_type": "code",
   "execution_count": 9,
   "id": "030bd2d8",
   "metadata": {},
   "outputs": [
    {
     "name": "stdout",
     "output_type": "stream",
     "text": [
      "Result : 2\n"
     ]
    }
   ],
   "source": [
    "\n",
    "l = ['abc', 'xyz', 'aba', '1221']\n",
    "\n",
    "count = 0\n",
    "\n",
    "for s in l:\n",
    "    if len(s) >= 2 and s[0] == s[-1]:\n",
    "        count += 1\n",
    "\n",
    "print(\"Result :\", count)\n"
   ]
  },
  {
   "attachments": {},
   "cell_type": "markdown",
   "id": "5ac680bf",
   "metadata": {},
   "source": [
    "\n",
    "##### Practice Problem 1.5\n",
    "Write a Python function that accepts a string and calculates the number of uppercase letters and lowercase letters. \n",
    "\n",
    "Sample Input :\n",
    "\n",
    "Bangladesh has played 396 ODI matches resulting in 142 victories\n",
    "\n",
    "Output :\n",
    "\n",
    "No. of Upper case characters :  4\n",
    "\n",
    "No. of Lower case Characters :  45"
   ]
  },
  {
   "cell_type": "code",
   "execution_count": null,
   "id": "2e08afdd",
   "metadata": {},
   "outputs": [],
   "source": []
  },
  {
   "cell_type": "code",
   "execution_count": null,
   "metadata": {},
   "outputs": [],
   "source": []
  },
  {
   "cell_type": "code",
   "execution_count": 14,
   "id": "b114d4f0",
   "metadata": {},
   "outputs": [
    {
     "name": "stdout",
     "output_type": "stream",
     "text": [
      "No. of Upper case characters: 5\n",
      "No. of Lower case Characters: 5\n"
     ]
    }
   ],
   "source": [
    "def count(string):\n",
    "    \n",
    "    u = 0\n",
    "    l = 0\n",
    "    \n",
    "    for char in string:\n",
    "        if char.isupper():\n",
    "            u += 1\n",
    "        elif char.islower():\n",
    "            l += 1\n",
    "    \n",
    "    return u, l\n",
    "\n",
    "user_input = input(\"Enter a string: \")\n",
    "\n",
    "u, l = count(user_input)\n",
    "\n",
    "print(\"No. of Upper case characters:\", u)\n",
    "print(\"No. of Lower case Characters:\", l)\n"
   ]
  },
  {
   "attachments": {},
   "cell_type": "markdown",
   "id": "05abd5fe",
   "metadata": {},
   "source": [
    "##### Practice Problem 1.6\n",
    "Write a Python program that accepts a comma-separated sequence of words as input and prints the unique words in sorted form (alphanumerically).\n",
    "\n",
    "Sample Words: red, white, black, red, green, black\n",
    "\n",
    "Expected Result: black, green, red, white,red"
   ]
  },
  {
   "cell_type": "code",
   "execution_count": 20,
   "id": "5a8e06b3",
   "metadata": {},
   "outputs": [
    {
     "name": "stdout",
     "output_type": "stream",
     "text": [
      "black, green, red, white\n"
     ]
    }
   ],
   "source": [
    "s= input(\"\")\n",
    "\n",
    "words = s.split(',')\n",
    "\n",
    "cleaned_words = [word.strip().lower() for word in words]\n",
    "\n",
    "unique_words = list(set(cleaned_words))\n",
    "\n",
    "sort = sorted(unique_words)\n",
    "\n",
    "result = ', '.join(sort)\n",
    "\n",
    "print(result)\n"
   ]
  },
  {
   "attachments": {},
   "cell_type": "markdown",
   "id": "49d42098",
   "metadata": {},
   "source": [
    "##### Practice Problem 1.7\n",
    "Write a Python program to count repeated characters in a string.\n",
    "\n",
    "Sample string: \n",
    "\n",
    "thequickbrownfoxjumpsoverthelazydog\n",
    "\n",
    "Expected output :\n",
    "\n",
    "o 4\n",
    "\n",
    "e 3\n",
    "\n",
    "u 2\n",
    "\n",
    "h 2\n",
    "\n",
    "r 2\n",
    "\n",
    "t 2"
   ]
  },
  {
   "cell_type": "code",
   "execution_count": 27,
   "metadata": {},
   "outputs": [
    {
     "name": "stdout",
     "output_type": "stream",
     "text": [
      "t 2\n",
      "h 2\n",
      "e 3\n",
      "u 2\n",
      "r 2\n",
      "o 4\n"
     ]
    }
   ],
   "source": [
    "input_string = input(\"\")\n",
    "\n",
    "c = {}\n",
    "\n",
    "for char in input_string:\n",
    "    if char in c:\n",
    "        c[char] += 1\n",
    "    else:\n",
    "        c[char] = 1\n",
    "\n",
    "for char, count in c.items():\n",
    "    if count > 1:\n",
    "        print(char, count)\n"
   ]
  },
  {
   "attachments": {},
   "cell_type": "markdown",
   "id": "eb92db4a",
   "metadata": {},
   "source": [
    "##### Practice Problem 1.8\n",
    "Write a Python program to extract characters from various text files and puts them into a list.\n",
    "\n",
    "Sample Input:\n",
    "\n",
    " \n",
    "\n",
    "words1.txt\n",
    "\n",
    "Welcome to the Python Wiki, a user-editable compendium of knowledge\n",
    "\n",
    "based around the Python programming language. Some pages are protected\n",
    "\n",
    "against casual editing - see WikiEditingGuidelines for more information\n",
    "\n",
    "about editing content.\n",
    "\n",
    " \n",
    "\n",
    "words2.txt\n",
    "\n",
    "Python is a great object-oriented, interpreted, and interactive\n",
    "\n",
    "programming language. It is often compared (favorably of course :-) )\n",
    "\n",
    "to Lisp, Tcl, Perl, Ruby, C#, Visual Basic, Visual Fox Pro, Scheme or Java...\n",
    "\n",
    "and it's much more fun.\n",
    "\n",
    " \n",
    "\n",
    "Sample Output:\n",
    "\n",
    "[\"Python is a great object-oriented, interpreted, and interactive\\nprogramming language. It is often compared (favorably of course :-) )\\nto Lisp, Tcl, Perl, Ruby, C#, Visual Basic, Visual Fox Pro, Scheme or Java...\\nand it's much more fun.\", 'Welcome to the Python Wiki, a user-editable compendium of knowledge\\nbased around the Python programming language. Some pages are protected\\nagainst casual editing - see WikiEditingGuidelines for more information\\nabout editing content.\\n']"
   ]
  },
  {
   "cell_type": "code",
   "execution_count": 1,
   "id": "81657b1a",
   "metadata": {},
   "outputs": [
    {
     "ename": "ModuleNotFoundError",
     "evalue": "No module named 'django'",
     "output_type": "error",
     "traceback": [
      "\u001b[1;31m---------------------------------------------------------------------------\u001b[0m",
      "\u001b[1;31mModuleNotFoundError\u001b[0m                       Traceback (most recent call last)",
      "\u001b[1;32md:\\Intership411\\daenv\\Python Fundamental.ipynb Cell 19\u001b[0m line \u001b[0;36m1\n\u001b[0;32m      <a href='vscode-notebook-cell:/d%3A/Intership411/daenv/Python%20Fundamental.ipynb#X25sZmlsZQ%3D%3D?line=6'>7</a>\u001b[0m \u001b[39mimport\u001b[39;00m \u001b[39mjson\u001b[39;00m\n\u001b[0;32m      <a href='vscode-notebook-cell:/d%3A/Intership411/daenv/Python%20Fundamental.ipynb#X25sZmlsZQ%3D%3D?line=7'>8</a>\u001b[0m \u001b[39mimport\u001b[39;00m \u001b[39muuid\u001b[39;00m\n\u001b[1;32m---> <a href='vscode-notebook-cell:/d%3A/Intership411/daenv/Python%20Fundamental.ipynb#X25sZmlsZQ%3D%3D?line=9'>10</a>\u001b[0m \u001b[39mfrom\u001b[39;00m \u001b[39mdjango\u001b[39;00m\u001b[39m.\u001b[39;00m\u001b[39mcore\u001b[39;00m\u001b[39m.\u001b[39;00m\u001b[39mserializers\u001b[39;00m\u001b[39m.\u001b[39;00m\u001b[39mbase\u001b[39;00m \u001b[39mimport\u001b[39;00m DeserializationError\n\u001b[0;32m     <a href='vscode-notebook-cell:/d%3A/Intership411/daenv/Python%20Fundamental.ipynb#X25sZmlsZQ%3D%3D?line=10'>11</a>\u001b[0m \u001b[39mfrom\u001b[39;00m \u001b[39mdjango\u001b[39;00m\u001b[39m.\u001b[39;00m\u001b[39mcore\u001b[39;00m\u001b[39m.\u001b[39;00m\u001b[39mserializers\u001b[39;00m\u001b[39m.\u001b[39;00m\u001b[39mpython\u001b[39;00m \u001b[39mimport\u001b[39;00m Deserializer \u001b[39mas\u001b[39;00m PythonDeserializer\n\u001b[0;32m     <a href='vscode-notebook-cell:/d%3A/Intership411/daenv/Python%20Fundamental.ipynb#X25sZmlsZQ%3D%3D?line=11'>12</a>\u001b[0m \u001b[39mfrom\u001b[39;00m \u001b[39mdjango\u001b[39;00m\u001b[39m.\u001b[39;00m\u001b[39mcore\u001b[39;00m\u001b[39m.\u001b[39;00m\u001b[39mserializers\u001b[39;00m\u001b[39m.\u001b[39;00m\u001b[39mpython\u001b[39;00m \u001b[39mimport\u001b[39;00m Serializer \u001b[39mas\u001b[39;00m PythonSerializer\n",
      "\u001b[1;31mModuleNotFoundError\u001b[0m: No module named 'django'"
     ]
    }
   ],
   "source": [
    "\"\"\"\n",
    "Serialize data to/from JSON\n",
    "\"\"\"\n",
    "\n",
    "import datetime\n",
    "import decimal\n",
    "import json\n",
    "import uuid\n",
    "\n",
    "from django.core.serializers.base import DeserializationError\n",
    "from django.core.serializers.python import Deserializer as PythonDeserializer\n",
    "from django.core.serializers.python import Serializer as PythonSerializer\n",
    "from django.utils.duration import duration_iso_string\n",
    "from django.utils.functional import Promise\n",
    "from django.utils.timezone import is_aware\n",
    "\n",
    "\n",
    "class Serializer(PythonSerializer):\n",
    "    \"\"\"Convert a queryset to JSON.\"\"\"\n",
    "\n",
    "    internal_use_only = False\n",
    "\n",
    "    def _init_options(self):\n",
    "        self._current = None\n",
    "        self.json_kwargs = self.options.copy()\n",
    "        self.json_kwargs.pop(\"stream\", None)\n",
    "        self.json_kwargs.pop(\"fields\", None)\n",
    "        if self.options.get(\"indent\"):\n",
    "            # Prevent trailing spaces\n",
    "            self.json_kwargs[\"separators\"] = (\",\", \": \")\n",
    "        self.json_kwargs.setdefault(\"cls\", DjangoJSONEncoder)\n",
    "        self.json_kwargs.setdefault(\"ensure_ascii\", False)\n",
    "\n",
    "    def start_serialization(self):\n",
    "        self._init_options()\n",
    "        self.stream.write(\"[\")\n",
    "\n",
    "    def end_serialization(self):\n",
    "        if self.options.get(\"indent\"):\n",
    "            self.stream.write(\"\\n\")\n",
    "        self.stream.write(\"]\")\n",
    "        if self.options.get(\"indent\"):\n",
    "            self.stream.write(\"\\n\")\n",
    "\n",
    "    def end_object(self, obj):\n",
    "        # self._current has the field data\n",
    "        indent = self.options.get(\"indent\")\n",
    "        if not self.first:\n",
    "            self.stream.write(\",\")\n",
    "            if not indent:\n",
    "                self.stream.write(\" \")\n",
    "        if indent:\n",
    "            self.stream.write(\"\\n\")\n",
    "        json.dump(self.get_dump_object(obj), self.stream, **self.json_kwargs)\n",
    "        self._current = None\n",
    "\n",
    "    def getvalue(self):\n",
    "        # Grandparent super\n",
    "        return super(PythonSerializer, self).getvalue()\n",
    "\n",
    "\n",
    "def Deserializer(stream_or_string, **options):\n",
    "    \"\"\"Deserialize a stream or string of JSON data.\"\"\"\n",
    "    if not isinstance(stream_or_string, (bytes, str)):\n",
    "        stream_or_string = stream_or_string.read()\n",
    "    if isinstance(stream_or_string, bytes):\n",
    "        stream_or_string = stream_or_string.decode()\n",
    "    try:\n",
    "        objects = json.loads(stream_or_string)\n",
    "        yield from PythonDeserializer(objects, **options)\n",
    "    except (GeneratorExit, DeserializationError):\n",
    "        raise\n",
    "    except Exception as exc:\n",
    "        raise DeserializationError() from exc\n",
    "\n",
    "\n",
    "class DjangoJSONEncoder(json.JSONEncoder):\n",
    "    \"\"\"\n",
    "    JSONEncoder subclass that knows how to encode date/time, decimal types, and\n",
    "    UUIDs.\n",
    "    \"\"\"\n",
    "\n",
    "    def default(self, o):\n",
    "        # See \"Date Time String Format\" in the ECMA-262 specification.\n",
    "        if isinstance(o, datetime.datetime):\n",
    "            r = o.isoformat()\n",
    "            if o.microsecond:\n",
    "                r = r[:23] + r[26:]\n",
    "            if r.endswith(\"+00:00\"):\n",
    "                r = r.removesuffix(\"+00:00\") + \"Z\"\n",
    "            return r\n",
    "        elif isinstance(o, datetime.date):\n",
    "            return o.isoformat()\n",
    "        elif isinstance(o, datetime.time):\n",
    "            if is_aware(o):\n",
    "                raise ValueError(\"JSON can't represent timezone-aware times.\")\n",
    "            r = o.isoformat()\n",
    "            if o.microsecond:\n",
    "                r = r[:12]\n",
    "            return r\n",
    "        elif isinstance(o, datetime.timedelta):\n",
    "            return duration_iso_string(o)\n",
    "        elif isinstance(o, (decimal.Decimal, uuid.UUID, Promise)):\n",
    "            return str(o)\n",
    "        else:\n",
    "            return super().default(o)"
   ]
  }
 ],
 "metadata": {
  "kernelspec": {
   "display_name": "Python 3 (ipykernel)",
   "language": "python",
   "name": "python3"
  },
  "language_info": {
   "codemirror_mode": {
    "name": "ipython",
    "version": 3
   },
   "file_extension": ".py",
   "mimetype": "text/x-python",
   "name": "python",
   "nbconvert_exporter": "python",
   "pygments_lexer": "ipython3",
   "version": "3.9.1"
  }
 },
 "nbformat": 4,
 "nbformat_minor": 5
}
