{
 "cells": [
  {
   "cell_type": "markdown",
   "id": "2ae3a9e5-d77d-468c-9415-bf065990839a",
   "metadata": {},
   "source": [
    "### NAME: BUSHRA HOSSAIN\n",
    "### IternID: i23b0034s26\n",
    "##### Day: 6\n",
    "##### Task: 1"
   ]
  },
  {
   "cell_type": "code",
   "execution_count": 12,
   "id": "e26981c9-dff4-4b1f-b2fc-9f93af09fe50",
   "metadata": {},
   "outputs": [
    {
     "name": "stdout",
     "output_type": "stream",
     "text": [
      "Requirement already satisfied: psycopg2 in c:\\users\\bushra\\appdata\\local\\programs\\python\\python39\\lib\\site-packages (2.9.9)Note: you may need to restart the kernel to use updated packages.\n",
      "\n"
     ]
    },
    {
     "name": "stderr",
     "output_type": "stream",
     "text": [
      "\n",
      "[notice] A new release of pip is available: 23.2.1 -> 23.3.1\n",
      "[notice] To update, run: python.exe -m pip install --upgrade pip\n"
     ]
    }
   ],
   "source": [
    "# pip install psycopg2"
   ]
  },
  {
   "cell_type": "markdown",
   "id": "7b2faa64",
   "metadata": {},
   "source": [
    "1. Understand the structure of the e-Commerce dataset [Already Provided]\n",
    "\n",
    " \n",
    "\n",
    "2. Create a database named ecomdb on the PostgreSQL database.\n",
    "\n",
    " \n",
    "\n",
    "3. Create a star schema with the required tables using sqldbm or other tools.\n",
    "\n",
    " \n",
    "\n",
    "4. Connect to the database using psycopg2 from a Jupyter Notebook\n",
    "\n",
    "\n",
    "\n",
    "5. Read data from the dataset to pandas dataframe\n",
    "\n",
    " \n",
    "\n",
    "6. Insert data into the database from the notebook"
   ]
  },
  {
   "cell_type": "code",
   "execution_count": 13,
   "id": "0c5e956e-7c90-4d29-8df7-95fe53f623e1",
   "metadata": {},
   "outputs": [
    {
     "name": "stdout",
     "output_type": "stream",
     "text": [
      "Successfully Loaded the Dataset!\n"
     ]
    }
   ],
   "source": [
    "\n",
    "import openpyxl\n",
    "import pandas as pd\n",
    "\n",
    "\n",
    "fact_table = pd.read_excel(r'e-com-sales-out.xlsx', sheet_name='Fact_table', engine='openpyxl')\n",
    "\n",
    "trans_dim = pd.read_excel(r'e-com-sales-out.xlsx', sheet_name='Trans_dim', engine='openpyxl')\n",
    "\n",
    "\n",
    "item_dim = pd.read_excel(r'e-com-sales-out.xlsx', sheet_name='Item_dim', engine='openpyxl')\n",
    "\n",
    " \n",
    "customer_dim = pd.read_excel(r'e-com-sales-out.xlsx', sheet_name='Customer_dim', engine='openpyxl')\n",
    "\n",
    " \n",
    "time_dim = pd.read_excel(r'e-com-sales-out.xlsx', sheet_name='Time_dim', engine='openpyxl')\n",
    "\n",
    "store_dim = pd.read_excel(r'e-com-sales-out.xlsx', sheet_name='Store_dim', engine='openpyxl')\n",
    "\n",
    "print(\"Successfully Loaded the Dataset!\")"
   ]
  },
  {
   "cell_type": "code",
   "execution_count": 14,
   "id": "b9cdcc06-8b72-4537-b2c0-bde06e5eef34",
   "metadata": {},
   "outputs": [
    {
     "data": {
      "text/plain": [
       "payment_key      object\n",
       "customer_key     object\n",
       "time_key         object\n",
       "item_key         object\n",
       "store_key        object\n",
       "quantity          int64\n",
       "unit             object\n",
       "unit_price      float64\n",
       "total_price     float64\n",
       "dtype: object"
      ]
     },
     "execution_count": 14,
     "metadata": {},
     "output_type": "execute_result"
    }
   ],
   "source": [
    "fact_table.dtypes\n"
   ]
  },
  {
   "cell_type": "code",
   "execution_count": 15,
   "id": "0b708ff6-5d7b-4000-b67f-80f037b6726f",
   "metadata": {},
   "outputs": [
    {
     "data": {
      "text/plain": [
       "payment_key    object\n",
       "trans_type     object\n",
       "bank_name      object\n",
       "dtype: object"
      ]
     },
     "execution_count": 15,
     "metadata": {},
     "output_type": "execute_result"
    }
   ],
   "source": [
    "trans_dim.dtypes\n"
   ]
  },
  {
   "cell_type": "code",
   "execution_count": 16,
   "id": "fbbbe88e-848b-422f-bdd6-7db297c9c664",
   "metadata": {},
   "outputs": [
    {
     "data": {
      "text/plain": [
       "item_key           object\n",
       "item_name          object\n",
       "description        object\n",
       "unit_price        float64\n",
       "stock_quantity      int64\n",
       "unit               object\n",
       "dtype: object"
      ]
     },
     "execution_count": 16,
     "metadata": {},
     "output_type": "execute_result"
    }
   ],
   "source": [
    "item_dim.dtypes\n"
   ]
  },
  {
   "cell_type": "code",
   "execution_count": 17,
   "id": "9f0324b3-a0e5-471d-b6ab-7902ba41d50a",
   "metadata": {},
   "outputs": [
    {
     "data": {
      "text/plain": [
       "customer_key    object\n",
       "name            object\n",
       "contact_no       int64\n",
       "nid              int64\n",
       "address         object\n",
       "street          object\n",
       "upazila         object\n",
       "district        object\n",
       "division        object\n",
       "dtype: object"
      ]
     },
     "execution_count": 17,
     "metadata": {},
     "output_type": "execute_result"
    }
   ],
   "source": [
    "customer_dim.dtypes"
   ]
  },
  {
   "cell_type": "code",
   "execution_count": 18,
   "id": "00b7ffa4-b169-4655-9a42-4d2aa2e4fdd0",
   "metadata": {},
   "outputs": [
    {
     "data": {
      "text/plain": [
       "time_key    object\n",
       "date        object\n",
       "hour         int64\n",
       "day          int64\n",
       "week        object\n",
       "month        int64\n",
       "quarter     object\n",
       "year         int64\n",
       "dtype: object"
      ]
     },
     "execution_count": 18,
     "metadata": {},
     "output_type": "execute_result"
    }
   ],
   "source": [
    "time_dim.dtypes"
   ]
  },
  {
   "cell_type": "code",
   "execution_count": 19,
   "id": "cd87a503-8f6a-49b2-b5f6-b3d38074bb88",
   "metadata": {},
   "outputs": [
    {
     "data": {
      "text/plain": [
       "store_key     object\n",
       "store_size    object\n",
       "location      object\n",
       "city          object\n",
       "upazila       object\n",
       "district      object\n",
       "division      object\n",
       "dtype: object"
      ]
     },
     "execution_count": 19,
     "metadata": {},
     "output_type": "execute_result"
    }
   ],
   "source": [
    "store_dim.dtypes"
   ]
  },
  {
   "cell_type": "code",
   "execution_count": 20,
   "id": "920d2502-ab36-4ebd-b459-911098d1e78a",
   "metadata": {},
   "outputs": [],
   "source": [
    "#converts to time data type to make both schema and pandas laoded data same type\n",
    "\n",
    "time_dim['date'] = pd.to_datetime(time_dim['date'], format='mixed')\n"
   ]
  },
  {
   "cell_type": "code",
   "execution_count": 21,
   "id": "9c39a8e0-5bd1-499c-aeb5-b0bab282a9cf",
   "metadata": {},
   "outputs": [
    {
     "data": {
      "text/plain": [
       "time_key            object\n",
       "date        datetime64[ns]\n",
       "hour                 int64\n",
       "day                  int64\n",
       "week                object\n",
       "month                int64\n",
       "quarter             object\n",
       "year                 int64\n",
       "dtype: object"
      ]
     },
     "execution_count": 21,
     "metadata": {},
     "output_type": "execute_result"
    }
   ],
   "source": [
    "time_dim.dtypes"
   ]
  },
  {
   "cell_type": "code",
   "execution_count": 46,
   "id": "9e42371d-570c-4060-a7ef-0dcb16875edd",
   "metadata": {},
   "outputs": [
    {
     "name": "stdout",
     "output_type": "stream",
     "text": [
      "Connection to DB established!\n"
     ]
    }
   ],
   "source": [
    "import psycopg2.extras\n",
    "\n",
    "class PostgresConnection(object):\n",
    "    def __init__(self):\n",
    "        self.connection = psycopg2.connect(database=\"ecomdb\",\n",
    "                                           user = \"postgres\",\n",
    "                                           password = \"admin\",\n",
    "                                           host = \"127.0.0.1\",\n",
    "                                           port = \"5432\")\n",
    "\n",
    "    def getConnection(self):\n",
    "        print(\"Connection to DB established!\")\n",
    "        return self.connection\n",
    "\n",
    "con = PostgresConnection().getConnection()"
   ]
  },
  {
   "cell_type": "markdown",
   "id": "26a0759b",
   "metadata": {},
   "source": [
    "## 1.trans dim table value inserted"
   ]
  },
  {
   "cell_type": "code",
   "execution_count": null,
   "id": "27150a47",
   "metadata": {},
   "outputs": [],
   "source": [
    "import psycopg2\n",
    "from psycopg2 import extras\n",
    "\n",
    "# Assuming you've defined the 'con' connection object and 'trans_dim' dictionary earlier\n",
    "\n",
    "insert_stmt = \"\"\"INSERT INTO econdb.trans_dim(payment_key, trans_type, bank_name)\n",
    "                VALUES (%s, %s, %s)\"\"\"\n",
    "cur = con.cursor()\n",
    "\n",
    "# Assuming trans_dim.values is a list of tuples containing data to be inserted\n",
    "data_to_insert = trans_dim.values\n",
    "\n",
    "extras.execute_batch(cur, insert_stmt, data_to_insert)\n",
    "con.commit()\n",
    "print(\"Inserted Successfully!\")\n",
    "cur.close()\n"
   ]
  },
  {
   "cell_type": "markdown",
   "id": "83310515",
   "metadata": {},
   "source": [
    "### 2.Store dim table values inserted"
   ]
  },
  {
   "cell_type": "code",
   "execution_count": 27,
   "id": "959696ed",
   "metadata": {},
   "outputs": [
    {
     "name": "stdout",
     "output_type": "stream",
     "text": [
      "Inserted Successfully!\n"
     ]
    }
   ],
   "source": [
    "import psycopg2\n",
    "from psycopg2 import extras\n",
    "\n",
    "# Assuming you've defined the 'con' connection object and 'trans_dim' dictionary earlier\n",
    "\n",
    "insert_stmt = \"\"\"INSERT INTO ecomdb.store_dim(store_key, store_size, location, city, upazila, district, division)\n",
    "                VALUES (%s, %s, %s, %s, %s, %s, %s)\"\"\"\n",
    "cur = con.cursor()\n",
    "\n",
    "# Assuming store_dim.values is a list of tuples containing data to be inserted\n",
    "d = store_dim.values\n",
    "\n",
    "try:\n",
    "    cur.execute(\"BEGIN\")  # Start a new transaction\n",
    "\n",
    "    extras.execute_batch(cur, insert_stmt, d)\n",
    "\n",
    "    con.commit()  # Commit the transaction\n",
    "    print(\"Inserted Successfully!\")\n",
    "except psycopg2.Error as e:\n",
    "    con.rollback()  # Rollback the transaction on error\n",
    "    print(\"Error:\", e)\n",
    "finally:\n",
    "    cur.close()\n"
   ]
  },
  {
   "cell_type": "markdown",
   "id": "1f056a76",
   "metadata": {},
   "source": [
    "### 3.Time Dim Table value insert"
   ]
  },
  {
   "cell_type": "code",
   "execution_count": 28,
   "id": "e9d295a9",
   "metadata": {},
   "outputs": [
    {
     "name": "stdout",
     "output_type": "stream",
     "text": [
      "Inserted Successfully!\n"
     ]
    }
   ],
   "source": [
    "import psycopg2\n",
    "from psycopg2 import extras\n",
    "\n",
    "# Assuming you've defined the 'con' connection object and 'trans_dim' dictionary earlier\n",
    "\n",
    "insert_stmt = \"\"\"INSERT INTO ecomdb.time_dim(time_key, date, hour, day, week, month, quarter, year)\n",
    "                VALUES (%s, %s, %s, %s, %s, %s, %s, %s)\"\"\"\n",
    "cur = con.cursor()\n",
    "\n",
    "# Assuming store_dim.values is a list of tuples containing data to be inserted\n",
    "d1  = time_dim.values\n",
    "\n",
    "try:\n",
    "    cur.execute(\"BEGIN\")  # Start a new transaction\n",
    "\n",
    "    extras.execute_batch(cur, insert_stmt, d1)\n",
    "\n",
    "    con.commit()  # Commit the transaction\n",
    "    print(\"Inserted Successfully!\")\n",
    "except psycopg2.Error as e:\n",
    "    con.rollback()  # Rollback the transaction on error\n",
    "    print(\"Error:\", e)\n",
    "finally:\n",
    "    cur.close()\n"
   ]
  },
  {
   "cell_type": "markdown",
   "id": "0b74f73e",
   "metadata": {},
   "source": [
    "### 4.Customer dim Table values insert"
   ]
  },
  {
   "cell_type": "code",
   "execution_count": 30,
   "id": "c85935ad",
   "metadata": {},
   "outputs": [
    {
     "name": "stdout",
     "output_type": "stream",
     "text": [
      "Inserted Successfully!\n"
     ]
    }
   ],
   "source": [
    "import psycopg2\n",
    "from psycopg2 import extras\n",
    "\n",
    "# Assuming you've defined the 'con' connection object and 'trans_dim' dictionary earlier\n",
    "\n",
    "insert_stmt = \"\"\"INSERT INTO ecomdb.customer_dim(customer_key, name, contact_no, nid, address, street, upazila, district, division)\n",
    "                VALUES (%s, %s, %s, %s, %s, %s, %s, %s, %s)\"\"\"\n",
    "cur = con.cursor()\n",
    "\n",
    "# Assuming store_dim.values is a list of tuples containing data to be inserted\n",
    "d3 = customer_dim.values\n",
    "\n",
    "try:\n",
    "    cur.execute(\"BEGIN\")  # Start a new transaction\n",
    "\n",
    "    extras.execute_batch(cur, insert_stmt, d3)\n",
    "\n",
    "    con.commit()  # Commit the transaction\n",
    "    print(\"Inserted Successfully!\")\n",
    "except psycopg2.Error as e:\n",
    "    con.rollback()  # Rollback the transaction on error\n",
    "    print(\"Error:\", e)\n",
    "finally:\n",
    "    cur.close()\n"
   ]
  },
  {
   "cell_type": "markdown",
   "id": "a2f5cd82",
   "metadata": {},
   "source": [
    "### 5.Item dim table values insert"
   ]
  },
  {
   "cell_type": "code",
   "execution_count": null,
   "id": "05e06cf4",
   "metadata": {},
   "outputs": [],
   "source": [
    "import psycopg2\n",
    "from psycopg2 import extras\n",
    "\n",
    "# Assuming you've defined the 'con' connection object and 'trans_dim' dictionary earlier\n",
    "\n",
    "insert_stmt = \"\"\"INSERT INTO ecomdb.item_dim(item_key, item_name, description, unit_price, stock_quantity, unit)\n",
    "                VALUES (%s, %s, %s, %s, %s, %s)\"\"\"\n",
    "cur = con.cursor()\n",
    "\n",
    "# Assuming store_dim.values is a list of tuples containing data to be inserted\n",
    "d4 = item_dim.values\n",
    "\n",
    "try:\n",
    "    cur.execute(\"BEGIN\")  # Start a new transaction\n",
    "\n",
    "    extras.execute_batch(cur, insert_stmt, d4)\n",
    "\n",
    "    con.commit()  # Commit the transaction\n",
    "    print(\"Inserted Successfully!\")\n",
    "except psycopg2.Error as e:\n",
    "    con.rollback()  # Rollback the transaction on error\n",
    "    print(\"Error:\", e)\n",
    "finally:\n",
    "    cur.close()\n"
   ]
  },
  {
   "cell_type": "markdown",
   "id": "024567ff",
   "metadata": {},
   "source": [
    "### 6.Fact table values insert"
   ]
  },
  {
   "cell_type": "code",
   "execution_count": 49,
   "id": "16b89cb2",
   "metadata": {},
   "outputs": [],
   "source": [
    "import psycopg2\n",
    "\n",
    "# Establish a connection to the database\n",
    "con = psycopg2.connect(\n",
    "    database=\"ecomdb\",\n",
    "    user = \"postgres\",\n",
    "    password = \"admin\",\n",
    "    host = \"127.0.0.1\",\n",
    "    port = \"5432\")\n",
    "\n",
    "\n",
    "\n",
    "# Create a cursor\n",
    "cur = con.cursor()\n",
    "\n",
    "# Execute the SQL command to alter the table\n",
    "alter_sql = \"ALTER TABLE ecomdb.fact_table ALTER COLUMN payment_key_1 DROP NOT NULL\"\n",
    "cur.execute(alter_sql)\n",
    "alter_sql2 = \"ALTER TABLE ecomdb.fact_table ALTER COLUMN customer_key_1 DROP NOT NULL\"\n",
    "cur.execute(alter_sql2)\n",
    "alter_sql3 = \"ALTER TABLE ecomdb.fact_table ALTER COLUMN item_key_1 DROP NOT NULL\"\n",
    "cur.execute(alter_sql3)\n",
    "alter_sql4 = \"ALTER TABLE ecomdb.fact_table ALTER COLUMN time_key_1 DROP NOT NULL\"\n",
    "cur.execute(alter_sql4)\n",
    "alter_sql5 = \"ALTER TABLE ecomdb.fact_table ALTER COLUMN store_key_1 DROP NOT NULL\"\n",
    "cur.execute(alter_sql5)\n",
    "\n",
    "\n",
    "# Commit the transaction\n",
    "con.commit()\n",
    "\n",
    "# Close the cursor and connection\n",
    "cur.close()\n",
    "con.close()\n"
   ]
  },
  {
   "cell_type": "code",
   "execution_count": 52,
   "id": "88461a45",
   "metadata": {},
   "outputs": [],
   "source": [
    "import psycopg2\n",
    "\n",
    "# Establish a connection to the database\n",
    "con = psycopg2.connect(\n",
    "    database=\"ecomdb\",\n",
    "    user = \"postgres\",\n",
    "    password = \"admin\",\n",
    "    host = \"127.0.0.1\",\n",
    "    port = \"5432\")\n",
    "\n",
    "\n"
   ]
  },
  {
   "cell_type": "code",
   "execution_count": 53,
   "id": "f8ba3d31",
   "metadata": {},
   "outputs": [
    {
     "name": "stdout",
     "output_type": "stream",
     "text": [
      "Inserted Successfully!\n"
     ]
    }
   ],
   "source": [
    "import psycopg2\n",
    "from psycopg2 import extras\n",
    "\n",
    "# Assuming you've defined the 'con' connection object and 'trans_dim' dictionary earlier\n",
    "\n",
    "insert_stmt = \"\"\"INSERT INTO ecomdb.fact_table(payment_key, customer_key, time_key, item_key, store_key, quantity,unit, unit_price, total_price)\n",
    "                VALUES (%s, %s, %s, %s, %s, %s, %s, %s, %s)\"\"\"\n",
    "cur = con.cursor()\n",
    "\n",
    "# Assuming store_dim.values is a list of tuples containing data to be inserted\n",
    "d5 = fact_table.values\n",
    "\n",
    "try:\n",
    "    cur.execute(\"BEGIN\")  # Start a new transaction\n",
    "\n",
    "    extras.execute_batch(cur, insert_stmt, d5)\n",
    "\n",
    "    con.commit()  # Commit the transaction\n",
    "    print(\"Inserted Successfully!\")\n",
    "except psycopg2.Error as e:\n",
    "    con.rollback()  # Rollback the transaction on error\n",
    "    print(\"Error:\", e)\n",
    "finally:\n",
    "    cur.close()\n"
   ]
  }
 ],
 "metadata": {
  "kernelspec": {
   "display_name": "Python 3 (ipykernel)",
   "language": "python",
   "name": "python3"
  },
  "language_info": {
   "codemirror_mode": {
    "name": "ipython",
    "version": 3
   },
   "file_extension": ".py",
   "mimetype": "text/x-python",
   "name": "python",
   "nbconvert_exporter": "python",
   "pygments_lexer": "ipython3",
   "version": "3.9.1"
  }
 },
 "nbformat": 4,
 "nbformat_minor": 5
}
